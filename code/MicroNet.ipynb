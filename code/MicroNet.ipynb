{
 "cells": [
  {
   "cell_type": "markdown",
   "metadata": {},
   "source": [
    "# MicroNet"
   ]
  },
  {
   "cell_type": "markdown",
   "metadata": {},
   "source": [
    "## Abstract"
   ]
  },
  {
   "cell_type": "markdown",
   "metadata": {},
   "source": [
    "* Sparse connectivity :\n",
    "  1. avoid the significant reduction of network width.\n",
    "  2. How? propose micro-factorized convolution,\\\n",
    "     which factorizes a convolution matrix into low rank matices, to integrate(加入) sparse connectivity into convolution.\n",
    "* Dynamic activation function :\n",
    "  1. mitigate the detriment of reduction in network depth.\n",
    "  2. How? Dynamic Shift Max, to improve the non-linearity via maxing out multiple dynamic fusions\\\n",
    "     between an input feature map and its circular channel shift."
   ]
  },
  {
   "cell_type": "markdown",
   "metadata": {},
   "source": [
    "## 3. Micro-Factorized Convolution"
   ]
  },
  {
   "cell_type": "markdown",
   "metadata": {},
   "source": []
  },
  {
   "cell_type": "code",
   "execution_count": null,
   "metadata": {},
   "outputs": [],
   "source": []
  }
 ],
 "metadata": {
  "language_info": {
   "name": "python"
  },
  "orig_nbformat": 4
 },
 "nbformat": 4,
 "nbformat_minor": 2
}
