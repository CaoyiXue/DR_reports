{
 "cells": [
  {
   "cell_type": "markdown",
   "metadata": {},
   "source": [
    "## MobileNet"
   ]
  },
  {
   "cell_type": "markdown",
   "metadata": {},
   "source": [
    "### Abstract"
   ]
  },
  {
   "cell_type": "markdown",
   "metadata": {},
   "source": [
    "[streamlined architecture ?]() that uses [depth-wise separable ?]() convolutions to build [light weight ?]() deep neural networks.\\\n",
    "[Two simple global hyperparameters ?]() trade off between [latency (delay ?)](https://www.techtarget.com/whatis/definition/latency) and accuracy.\\\n",
    "These hyper-parameters allow us to choose the right sized model !"
   ]
  },
  {
   "cell_type": "markdown",
   "metadata": {},
   "source": [
    "### 1. Introduction"
   ]
  },
  {
   "cell_type": "markdown",
   "metadata": {},
   "source": [
    "AlexNet(2012) win ImageNet Challenge: ImageNet Large Scale Visual Recognition Challenge (ILSVRC) 2012.\n",
    "\n",
    "Problem: the recognition tasks need to be carried out in a timely fashion on a computationally limited platform.\n",
    "\n",
    "Notes: i.e. need to become more effciency?"
   ]
  },
  {
   "cell_type": "markdown",
   "metadata": {},
   "source": [
    "MobileNet can be easily matched to the design requirements for [mobile and embedded vision applications]()"
   ]
  },
  {
   "cell_type": "markdown",
   "metadata": {},
   "source": [
    "### 2. Prior work"
   ]
  },
  {
   "cell_type": "markdown",
   "metadata": {},
   "source": [
    "Compared with small networks of other papers, MobileNets optimize latency and also yield networks with small size.\n",
    "\n",
    "MobileNets are built primarily from depthwise separable convolutions initially introduced in [Rigid-motion scattering for image classification](../papers/phd_sifre.pdf) and subsequently used in [Inception models](../papers/BatchNomalization.pdf) to reduce the computation in the first few layers. \n"
   ]
  },
  {
   "cell_type": "markdown",
   "metadata": {},
   "source": [
    "blog: [Understanding Depthwise Separable Convolutions and the efficiency of MobileNets](../blogs/DepthwiseSeparableConvolutions.pdf)"
   ]
  },
  {
   "cell_type": "markdown",
   "metadata": {},
   "source": [
    "\n"
   ]
  }
 ],
 "metadata": {
  "kernelspec": {
   "display_name": "Python 3.9.13 64-bit",
   "language": "python",
   "name": "python3"
  },
  "language_info": {
   "name": "python",
   "version": "3.9.13"
  },
  "orig_nbformat": 4,
  "vscode": {
   "interpreter": {
    "hash": "b0fa6594d8f4cbf19f97940f81e996739fb7646882a419484c72d19e05852a7e"
   }
  }
 },
 "nbformat": 4,
 "nbformat_minor": 2
}
